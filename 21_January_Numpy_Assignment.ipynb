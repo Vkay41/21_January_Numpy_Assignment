{
 "cells": [
  {
   "cell_type": "code",
   "execution_count": 1,
   "id": "934600d3-5d2c-4da7-a630-05acc540f2f0",
   "metadata": {},
   "outputs": [],
   "source": [
    "#Numpy Assignment Questions\n"
   ]
  },
  {
   "cell_type": "markdown",
   "id": "25e11962-906a-4e2c-8e65-a0c2242d3d6d",
   "metadata": {},
   "source": [
    "#Q1. What is a Python library? Why do we use Python libraries?\n",
    "\n",
    "Python Library:\n",
    "\n",
    "A Python library is a collection of related modules. It contains bundles of code that can be used repeatedly in different programs.\n",
    "\n",
    "It makes Python Programming simpler and convenient for the programmer.\n",
    "\n",
    "As we don’t need to write the same code again and again for different programs.\n",
    "\n",
    "Python libraries play a very vital role in fields of Machine Learning, Data Science, Data Visualization, etc.\n",
    "\n",
    "The following are among the most important:\n",
    "    1. Pandas\n",
    "    \n",
    "    2. NumPy\n",
    "    \n",
    "    3. Keras\n",
    "    \n",
    "    4. TensorFlow\n",
    "\n",
    "    5. Scikit Learn\n",
    "\n",
    "    6. Eli5\n",
    "\n",
    "    7. SciPy\n",
    "\n",
    "    8. PyTorch\n",
    "\n",
    "    9. LightGBM\n",
    "\n",
    "    10. Theano\n",
    "\n",
    "Use Python libraries\n",
    "\n",
    "As we write large-size programs in Python, we want to maintain the code’s modularity.\n",
    "\n",
    "For the easy maintenance of the code, we split the code into different parts and we can use that code later ever we need it.\n",
    "\n",
    "In Python, modules play that part. Instead of using the same code in different programs and making the code complex, we define mostly used functions in modules and we can just simply import them in a program wherever there is a requirement. \n",
    "\n",
    "We don’t need to write that code but still, we can use its functionality by importing its module. \n",
    "\n",
    "Multiple interrelated modules are stored in a library. And whenever we need to use a module, we import it from its library."
   ]
  },
  {
   "cell_type": "markdown",
   "id": "aeec9a37-8cde-4bc1-a8c1-4d4511f4c503",
   "metadata": {},
   "source": [
    "#Q2. What is the difference between Numpy array and List?\n",
    "\n",
    "Python Lists:\n",
    "\n",
    "The list can be homogeneous or heterogeneous.\n",
    "\n",
    "Element-wise operation is not possible on the list.\n",
    "\n",
    "Python list is by default 1-dimensional. But we can create an N-Dimensional list. \n",
    "\n",
    "But then too it will be 1 D list storing another 1D list\n",
    "\n",
    "Elements of a list need not be contiguous in memory.\n",
    "\n",
    "Numpy arrays:\n",
    "\n",
    "We can create an N-dimensional array in Python using Numpy.array().\n",
    "\n",
    "The array is by default Homogeneous, which means data inside an array must be of the same Datatype. (Note You can also create a structured array in Python).\n",
    "\n",
    "Element-wise operation is possible.\n",
    "\n",
    "Numpy array has various functions, methods, and variables, to ease our task of matrix computation.\n",
    "\n",
    "Elements of an array are stored contiguously in memory. For example, all rows of a two-dimensioned array must have the same number of columns.\n",
    "\n",
    "A three-dimensional array must have the same number of rows and columns on each card."
   ]
  },
  {
   "cell_type": "code",
   "execution_count": 4,
   "id": "a661e4ec-b396-426a-b51c-355dedce229e",
   "metadata": {},
   "outputs": [
    {
     "name": "stdout",
     "output_type": "stream",
     "text": [
      "Shape of array : (3, 4)\n",
      "Size of array : 12\n",
      "Dimension of array : 2\n"
     ]
    }
   ],
   "source": [
    "\"\"\"\n",
    "Q3. Find the shape, size and dimension of the following array?\n",
    "\n",
    "[[1, 2, 3, 4]\n",
    "\n",
    "[5, 6, 7, 8],\n",
    "\n",
    "[9, 10, 11, 12]]\n",
    "\"\"\"\n",
    "\n",
    "\n",
    "import numpy as np\n",
    "arr=np.array([[1, 2, 3, 4],[5, 6, 7, 8],[9, 10, 11, 12]])\n",
    "shape=arr.shape\n",
    "size=arr.size\n",
    "dimension=arr.ndim\n",
    "print(\"Shape of array :\",shape)\n",
    "print(\"Size of array :\",size)\n",
    "print(\"Dimension of array :\",dimension)"
   ]
  },
  {
   "cell_type": "markdown",
   "id": "06f1d9c8-4f08-406a-bbe2-f5582a93eaf6",
   "metadata": {},
   "source": [
    "We create and intialize array called array using the numpy.array() function.\n",
    "\n",
    "Now by the help of functions like shape ,size & ndim we will find the shape, size and dimension of the array.\n",
    "\n",
    "By the print function we should print that and program ends"
   ]
  },
  {
   "cell_type": "code",
   "execution_count": 6,
   "id": "886b54b8-7969-4394-8380-2aa2a513ff4b",
   "metadata": {},
   "outputs": [
    {
     "name": "stdout",
     "output_type": "stream",
     "text": [
      "First row of the following array :  [1 2 3 4]\n"
     ]
    }
   ],
   "source": [
    "\"\"\"\n",
    "4. Write python code to access the first row of the following array?\n",
    "\n",
    "[[1, 2, 3, 4]\n",
    "\n",
    "[5, 6, 7, 8],\n",
    "\n",
    "[9, 10, 11, 12]]\n",
    "\"\"\"\n",
    "\n",
    "\n",
    "import numpy as np\n",
    "\n",
    "array = np.array([[1, 2, 3, 4],[5, 6, 7, 8],[9, 10, 11, 12]])\n",
    "first_row = array[0]\n",
    "print(\"First row of the following array : \",first_row)"
   ]
  },
  {
   "cell_type": "markdown",
   "id": "fa51807a-8ec5-4fbc-bd19-6308a86dd05e",
   "metadata": {},
   "source": [
    "We create and intialize array called array using the numpy.array() function.\n",
    "\n",
    "We then access the first row of the array using the array[0] syntax.\n",
    "\n",
    "Finally, we print the first row using the print() function."
   ]
  },
  {
   "cell_type": "code",
   "execution_count": 8,
   "id": "f823eb6c-0ac5-4e41-98e8-551caf7d8a13",
   "metadata": {},
   "outputs": [
    {
     "name": "stdout",
     "output_type": "stream",
     "text": [
      "Third row and fourth column from the given numpy array :  [1 2 3 4]\n"
     ]
    }
   ],
   "source": [
    "\"\"\"\n",
    "5. How do you access the element at the third row and fourth column from the given numpy array?\n",
    "\n",
    "[[1, 2, 3, 4]\n",
    "\n",
    "[5, 6, 7, 8],\n",
    "\n",
    "[9, 10, 11, 12]]\n",
    "\"\"\"\n",
    "\n",
    "import numpy as np\n",
    "\n",
    "array = np.array([[1, 2, 3, 4],[5, 6, 7, 8],[9, 10, 11, 12]])\n",
    "third__fourth_row_column = array[0]\n",
    "print(\"Third row and fourth column from the given numpy array : \",third__fourth_row_column) "
   ]
  },
  {
   "cell_type": "markdown",
   "id": "feb05e30-7266-4b31-be42-660067cc2f0b",
   "metadata": {},
   "source": [
    "We create and intialize array called array using the numpy.array() function.\n",
    "\n",
    "We then access the first row of the array using the array[3][4] syntax.\n",
    "\n",
    "Finally, we print the same using the print() function.\n"
   ]
  },
  {
   "cell_type": "code",
   "execution_count": 16,
   "id": "5ad08d27-af4d-48bb-a156-83f71c0b4745",
   "metadata": {},
   "outputs": [
    {
     "name": "stdout",
     "output_type": "stream",
     "text": [
      "[[5 6 7 8]]\n"
     ]
    }
   ],
   "source": [
    "\"\"\"\n",
    "6. Write code to extract all odd-indexed elements from the given numpy array?\n",
    "\n",
    "[[1, 2, 3, 4]\n",
    "\n",
    "[5, 6, 7, 8],\n",
    "\n",
    "[9, 10, 11, 12]]\n",
    "\"\"\"\n",
    "import numpy as np\n",
    "array = np.array([[1, 2, 3, 4],[5, 6, 7, 8],[9, 10, 11, 12]])\n",
    "odd_elements = array[1::2]\n",
    "print(odd_elements)"
   ]
  },
  {
   "cell_type": "markdown",
   "id": "a41a3188-503e-4c46-b15d-88769ad81369",
   "metadata": {},
   "source": [
    "We create and intialize array called array using the numpy.array() function.\n",
    "\n",
    "Now with the help of indexing and slicing we will find the odd index element.\n",
    "\n",
    "Finally, we print the same using the print() function."
   ]
  },
  {
   "cell_type": "code",
   "execution_count": 8,
   "id": "39e40102-c6e9-42a4-b3cf-84265f273162",
   "metadata": {},
   "outputs": [
    {
     "name": "stdout",
     "output_type": "stream",
     "text": [
      "[[0.17440445 0.20645191 0.30619681]\n",
      " [0.05778717 0.65091675 0.24165404]\n",
      " [0.61912841 0.33014573 0.92816934]]\n"
     ]
    }
   ],
   "source": [
    "#Q7. How can you generate a random 3x3 matrix with values between 0 and 1?\n",
    "\n",
    "\n",
    "import numpy as np\n",
    "matrix = np.random.rand(3, 3)\n",
    "print(matrix)"
   ]
  },
  {
   "cell_type": "markdown",
   "id": "cd799008-00db-4b7f-8028-b94151d45ad9",
   "metadata": {},
   "source": [
    "We create and intialize array called array using the numpy.array() function.\n",
    "\n",
    "Now by the help of function like np.random.rand we will generate a random 3x3 matrix with values between 0 and 1.\n",
    "\n",
    "By the print function we should print that and program ends"
   ]
  },
  {
   "cell_type": "markdown",
   "id": "fba5bead-b6f0-487d-a6ff-71bbf0ee1c2a",
   "metadata": {},
   "source": [
    "#Q8. Describe the difference numpy.random.rand() vs numpy.random.random()?\n",
    "\n",
    "\n",
    "\n",
    "\n",
    "\n",
    "The numpy.random.rand() generates random values in a given shape. \n",
    "\n",
    "It creates an array of the given shape and populate it with random samples from a uniform distribution over [0, 1).\n",
    "\n",
    "On the other hand, numpy.random.random() return random floats in the half-open interval [0.0, 1.0).\n",
    "\n",
    "Both functions generate samples from the uniform distribution on [0, 1). \n",
    "\n",
    "The only difference is in how the arguments are handled.\n",
    "\n",
    "With numpy.random.rand(), the length of each dimension of the output array is a separate argument. \n",
    "                                                                  \n",
    "With numpy.random.random_sample(), the shape argument is a single tuple.\n",
    "\n",
    "Let us understand with the help of an example,"
   ]
  },
  {
   "cell_type": "code",
   "execution_count": 7,
   "id": "9a1156a8-9caa-4110-bea0-6c94bc694b7d",
   "metadata": {},
   "outputs": [
    {
     "name": "stdout",
     "output_type": "stream",
     "text": [
      "values using rand:\n",
      " [[0.5001389  0.46833587 0.35242362 0.46420501 0.33191494]\n",
      " [0.01894991 0.80619123 0.71777365 0.02712717 0.14362703]\n",
      " [0.47993636 0.32318477 0.89967747 0.03398681 0.57410792]] \n",
      "\n",
      "Values using random:\n",
      " [[0.96918186 0.17491059 0.79378846 0.24908548 0.80586175]\n",
      " [0.48967999 0.26915449 0.80279314 0.74118796 0.94339023]\n",
      " [0.69087978 0.41462311 0.77480795 0.33917479 0.16389503]] \n",
      "\n"
     ]
    }
   ],
   "source": [
    "import numpy as np\n",
    "print(\"values using rand:\\n\",np.random.rand(3, 5),\"\\n\")\n",
    "\n",
    "print(\"Values using random:\\n\",np.random.random_sample((3, 5)),\"\\n\")"
   ]
  },
  {
   "cell_type": "code",
   "execution_count": 15,
   "id": "1d208756-597c-48d8-b0b4-3d0d82d08b0d",
   "metadata": {},
   "outputs": [
    {
     "name": "stdout",
     "output_type": "stream",
     "text": [
      "Dimension before expansion : 2\n",
      "Dimension after expansion : 3\n"
     ]
    }
   ],
   "source": [
    "\"\"\"\n",
    "9. Write code to increase the dimension of the following array?\n",
    "\n",
    "[[1, 2, 3, 4]\n",
    "\n",
    "[5, 6, 7, 8],\n",
    "\n",
    "[9, 10, 11, 12]]\n",
    "\"\"\"\n",
    "import numpy as np\n",
    "a = np.array([[1, 2, 3, 4],[5, 6, 7, 8],[9, 10, 11, 12]])\n",
    "print(\"Dimension before expansion :\",a.ndim)\n",
    "b=np.expand_dims(a,axis=2)\n",
    "print(\"Dimension after expansion :\",b.ndim)"
   ]
  },
  {
   "cell_type": "markdown",
   "id": "22f27fb8-4e22-482e-9565-8cc41f54ce51",
   "metadata": {},
   "source": [
    "We create and intialize array called array using the numpy.array() function.\n",
    "\n",
    "Now by the help of function np.expand_dims we will increase the dimension of the array."
   ]
  },
  {
   "cell_type": "code",
   "execution_count": 2,
   "id": "2034be9e-8f13-40e6-b5b7-98c592883a6e",
   "metadata": {},
   "outputs": [
    {
     "data": {
      "text/plain": [
       "array([[ 1,  5,  9],\n",
       "       [ 2,  6, 10],\n",
       "       [ 3,  7, 11],\n",
       "       [ 4,  8, 12]])"
      ]
     },
     "execution_count": 2,
     "metadata": {},
     "output_type": "execute_result"
    }
   ],
   "source": [
    "\"\"\"\n",
    "#Q10. How to transpose the following array in NumPy?\n",
    "\n",
    "[[1, 2, 3, 4]\n",
    "\n",
    "[5, 6, 7, 8],\n",
    "\n",
    "[9, 10, 11, 12]]\n",
    "\"\"\"\n",
    "import numpy as np\n",
    "\n",
    "array = np.array([[1, 2, 3, 4],[5, 6, 7, 8],[9, 10, 11, 12]])\n",
    "array.transpose()"
   ]
  },
  {
   "cell_type": "markdown",
   "id": "a2258825-349d-45ea-9f0f-967bedb1101a",
   "metadata": {},
   "source": [
    "We create and intialize array called array using the numpy.array() function.\n",
    "\n",
    "The transpose() function takes an array as input and returns a new array with the rows and columns swapped"
   ]
  },
  {
   "cell_type": "code",
   "execution_count": 9,
   "id": "aa90ca79-e19f-4941-80e0-13d9c43bf14c",
   "metadata": {},
   "outputs": [
    {
     "name": "stdout",
     "output_type": "stream",
     "text": [
      "Index wise multiplication : \n",
      " [[  1   4   9  16]\n",
      " [ 25  36  49  64]\n",
      " [ 81 100 121 144]]\n",
      "Matrix multiplication : \n",
      " [[107 122 137 152]\n",
      " [122 140 158 176]\n",
      " [137 158 179 200]\n",
      " [152 176 200 224]]\n",
      "Add both the matrix :  \n",
      " [[ 2  4  6  8]\n",
      " [10 12 14 16]\n",
      " [18 20 22 24]]\n",
      "Subtract matrix B from A : \n",
      " [[0 0 0 0]\n",
      " [0 0 0 0]\n",
      " [0 0 0 0]]\n",
      "Subtract matrix B from A :  \n",
      " [[1. 1. 1. 1.]\n",
      " [1. 1. 1. 1.]\n",
      " [1. 1. 1. 1.]]\n"
     ]
    }
   ],
   "source": [
    "\"\"\"\n",
    "11. Consider the following matrix:\n",
    "\n",
    "Matrix A2 [[1, 2, 3, 4] [5, 6, 7, 8],[9, 10, 11, 12]]\n",
    "\n",
    "Matrix B2 [[1, 2, 3, 4] [5, 6, 7, 8],[9, 10, 11, 12]]\n",
    "\n",
    "Perform the following operation using Python1\n",
    "Index wise multiplication'\n",
    "Matrix multiplication'\n",
    "Add both the matrix\n",
    "Subtract matrix B from A\n",
    "Divide matrix B by A\n",
    "\"\"\"\n",
    "import numpy as np\n",
    "import numpy.matlib \n",
    "\n",
    "A= np.array([[1, 2, 3,4],[5, 6, 7,8],[9, 10, 11,12]])\n",
    "\n",
    "B =np.array([[1, 2, 3,4],[5, 6, 7,8],[9, 10, 11,12]])\n",
    "\n",
    "print(\"Index wise multiplication :\",\"\\n\",np.multiply(A,B))\n",
    "print(\"Matrix multiplication :\",\"\\n\",np.matmul((A.T),B))\n",
    "print(\"Add both the matrix : \",\"\\n\",np.add(A,B))\n",
    "print(\"Subtract matrix B from A :\",\"\\n\",np.subtract(A,B))\n",
    "print(\"Subtract matrix B from A : \",\"\\n\",np.divide(B,A))"
   ]
  },
  {
   "cell_type": "markdown",
   "id": "f8226b44-ed81-4cf8-ad71-6c0263307556",
   "metadata": {},
   "source": [
    "We create and intialize both array called A & B using the numpy.array() function.\n",
    "\n",
    "Now by using functions like np.multiply,np.matmul,np.add,np.subtract,np.divide find the followings\n",
    "                      \n",
    "                      Index wise multiplication\n",
    "                      \n",
    "                      Matrix multiplication\n",
    "                      \n",
    "                      Add both the matrix\n",
    "                      \n",
    "                      Subtract matrix B from A\n",
    "                      \n",
    "                      Divide matrix B by A\n",
    "\n",
    "Finally, we print the above using the print() function.\n"
   ]
  },
  {
   "cell_type": "markdown",
   "id": "999786f2-85a9-4a7e-b39a-802fce18a60e",
   "metadata": {},
   "source": [
    "#Q12.  Which function in Numpy can be used to swap the byte order of an array?\n",
    "\n",
    "\n",
    "The byteswap() function in NumPy can be used to swap the byte order of an array.\n",
    "\n",
    "The function takes an array as input and returns a new array with the bytes swapped.\n",
    "\n",
    "The function can also be used to swap the bytes of an array in-place.\n",
    "\n",
    "Here is an example of how to use the byteswap() function:"
   ]
  },
  {
   "cell_type": "code",
   "execution_count": 1,
   "id": "e9947e16-3cdb-437b-b035-d62d261a1e92",
   "metadata": {},
   "outputs": [
    {
     "name": "stdout",
     "output_type": "stream",
     "text": [
      "[ 72057594037927936 144115188075855872 216172782113783808\n",
      " 288230376151711744 360287970189639680]\n"
     ]
    }
   ],
   "source": [
    "import numpy as np\n",
    "array = np.array([1, 2, 3, 4, 5])\n",
    "swapped_array = array.byteswap()\n",
    "print(swapped_array)"
   ]
  },
  {
   "cell_type": "markdown",
   "id": "ca4e8074-8404-4832-b537-a489d4476e7f",
   "metadata": {},
   "source": [
    "#Q13  What is the significance of the np.linalg.inv function?\n",
    "\n",
    "The np.linalg.inv function in Python is used to compute the inverse of a matrix.\n",
    "\n",
    "The inverse of a matrix is a matrix that, when multiplied by the original matrix, results in the identity matrix. \n",
    "\n",
    "The identity matrix is a square matrix with 1's on the diagonal and 0's everywhere else.\n",
    "\n",
    "The np.linalg.inv function can be used to solve systems of linear equations, to find the inverse of a transformation matrix, and to compute other matrix operations.\n",
    "\n",
    "Here is an example of how to use the np.linalg.inv function:"
   ]
  },
  {
   "cell_type": "code",
   "execution_count": 2,
   "id": "e221eab1-7663-420c-b602-d248494dcde1",
   "metadata": {},
   "outputs": [
    {
     "name": "stdout",
     "output_type": "stream",
     "text": [
      "[[-2.   1. ]\n",
      " [ 1.5 -0.5]]\n"
     ]
    }
   ],
   "source": [
    "import numpy as np\n",
    "A = np.array([[1, 2], [3, 4]])\n",
    "A_inv = np.linalg.inv(A)\n",
    "print(A_inv)"
   ]
  },
  {
   "cell_type": "markdown",
   "id": "f10a843c-3ffe-42f8-a953-a6b91e40f3fa",
   "metadata": {},
   "source": [
    "#Q14.What does the np.reshape function do, and how is it used?\n",
    "\n",
    "The . reshape() function rearranges the data in an ndarray into a new shape. \n",
    "\n",
    "The new shape must be compatible with the old one, though an index of -1 can be used to infer one dimension.\n",
    "\n",
    "For example, if you have an array with shape (4,3) and you want to reshape it to shape (6,2), you would use the following code:"
   ]
  },
  {
   "cell_type": "code",
   "execution_count": 4,
   "id": "581c94b3-2b17-4680-a3a7-a5becde46ed9",
   "metadata": {},
   "outputs": [
    {
     "name": "stdout",
     "output_type": "stream",
     "text": [
      "[[ 1  2]\n",
      " [ 3  4]\n",
      " [ 5  6]\n",
      " [ 7  8]\n",
      " [ 9 10]\n",
      " [11 12]]\n"
     ]
    }
   ],
   "source": [
    "import numpy as np\n",
    "\n",
    "arr = np.array([[1, 2, 3], [4, 5, 6],[7,8,9],[10,11,12]])\n",
    "new_arr = arr.reshape(6,2)\n",
    "\n",
    "print(new_arr)"
   ]
  },
  {
   "cell_type": "markdown",
   "id": "f00b26a7-a5db-489e-9978-95ba3c4242ac",
   "metadata": {},
   "source": [
    "#15. What is broadcasting in Numpy?\n",
    "\n",
    "\n",
    "The term broadcasting refers to the ability of NumPy to treat arrays of different shapes during arithmetic operations. \n",
    "\n",
    "Arithmetic operations on arrays are usually done on corresponding elements. \n",
    "\n",
    "If two arrays are of exactly the same shape, then these operations are smoothly performed.\n",
    "\n",
    "Here is an example:"
   ]
  },
  {
   "cell_type": "code",
   "execution_count": 6,
   "id": "41733fbd-a7dd-4359-a562-da2c599d4578",
   "metadata": {},
   "outputs": [
    {
     "name": "stdout",
     "output_type": "stream",
     "text": [
      "[ 10  40  90 160]\n"
     ]
    }
   ],
   "source": [
    "import numpy as np \n",
    "\n",
    "a = np.array([1,2,3,4]) \n",
    "b = np.array([10,20,30,40]) \n",
    "c = a * b \n",
    "print (c)"
   ]
  },
  {
   "cell_type": "code",
   "execution_count": null,
   "id": "e3bd2367-56f2-4db5-9582-5b41661a93e2",
   "metadata": {},
   "outputs": [],
   "source": []
  }
 ],
 "metadata": {
  "kernelspec": {
   "display_name": "Python 3 (ipykernel)",
   "language": "python",
   "name": "python3"
  },
  "language_info": {
   "codemirror_mode": {
    "name": "ipython",
    "version": 3
   },
   "file_extension": ".py",
   "mimetype": "text/x-python",
   "name": "python",
   "nbconvert_exporter": "python",
   "pygments_lexer": "ipython3",
   "version": "3.10.8"
  }
 },
 "nbformat": 4,
 "nbformat_minor": 5
}
